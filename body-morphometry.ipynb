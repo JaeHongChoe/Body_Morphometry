{
 "cells": [
  {
   "cell_type": "code",
   "execution_count": null,
   "metadata": {
    "_cell_guid": "b1076dfc-b9ad-4769-8c92-a6c4dae69d19",
    "_uuid": "8f2839f25d086af736a60e9eeb907d3b93b6e0e5",
    "execution": {
     "iopub.execute_input": "2021-08-18T10:15:34.506746Z",
     "iopub.status.busy": "2021-08-18T10:15:34.506339Z",
     "iopub.status.idle": "2021-08-18T10:15:36.003890Z",
     "shell.execute_reply": "2021-08-18T10:15:36.003071Z",
     "shell.execute_reply.started": "2021-08-18T10:15:34.506658Z"
    }
   },
   "outputs": [],
   "source": [
    "import matplotlib.pyplot as plt\n",
    "import matplotlib.image as mpimg\n",
    "import torch\n",
    "import os\n",
    "from tqdm.auto import tqdm\n",
    "from glob import glob\n",
    "import cv2\n",
    "import numpy as np\n",
    "import pandas as pd\n",
    "import PIL\n",
    "import urllib\n",
    "from torch import nn\n",
    "from torch import optim\n",
    "import torch.nn.functional as F\n",
    "from torchvision import datasets, transforms\n",
    "\n",
    "%config InlineBackend.figure_format = 'retina'\n",
    "%matplotlib inline"
   ]
  },
  {
   "cell_type": "code",
   "execution_count": null,
   "metadata": {
    "execution": {
     "iopub.execute_input": "2021-08-18T10:15:36.005561Z",
     "iopub.status.busy": "2021-08-18T10:15:36.005214Z",
     "iopub.status.idle": "2021-08-18T10:15:36.010075Z",
     "shell.execute_reply": "2021-08-18T10:15:36.009253Z",
     "shell.execute_reply.started": "2021-08-18T10:15:36.005526Z"
    }
   },
   "outputs": [],
   "source": [
    "import torch.utils.data as td\n",
    "import torchvision as tv\n",
    "from PIL import Image\n",
    "import matplotlib.pyplot as plt\n",
    "import time"
   ]
  },
  {
   "cell_type": "code",
   "execution_count": null,
   "metadata": {
    "execution": {
     "iopub.execute_input": "2021-08-18T10:15:45.799633Z",
     "iopub.status.busy": "2021-08-18T10:15:45.799311Z",
     "iopub.status.idle": "2021-08-18T10:15:45.997603Z",
     "shell.execute_reply": "2021-08-18T10:15:45.996825Z",
     "shell.execute_reply.started": "2021-08-18T10:15:45.799604Z"
    }
   },
   "outputs": [],
   "source": [
    "import pydicom as dcm"
   ]
  },
  {
   "cell_type": "code",
   "execution_count": null,
   "metadata": {
    "execution": {
     "iopub.execute_input": "2021-08-18T10:15:46.152208Z",
     "iopub.status.busy": "2021-08-18T10:15:46.151952Z",
     "iopub.status.idle": "2021-08-18T10:15:46.159162Z",
     "shell.execute_reply": "2021-08-18T10:15:46.158160Z",
     "shell.execute_reply.started": "2021-08-18T10:15:46.152184Z"
    }
   },
   "outputs": [],
   "source": [
    "def image_windowing(img, w_min=0, w_max=300):\n",
    "    img_w = img.copy()\n",
    "\n",
    "    img_w[img_w < w_min] = w_min\n",
    "    img_w[img_w > w_max] = w_max\n",
    "\n",
    "    return img_w\n",
    "    \n",
    "def image_minmax(img):\n",
    "    img_minmax = ((img - np.min(img)) / (np.max(img) - np.min(img))).copy()\n",
    "    img_minmax = (img_minmax * 255).astype(np.uint8)\n",
    "        \n",
    "    return img_minmax"
   ]
  },
  {
   "cell_type": "code",
   "execution_count": null,
   "metadata": {
    "execution": {
     "iopub.execute_input": "2021-08-18T10:15:46.576071Z",
     "iopub.status.busy": "2021-08-18T10:15:46.575754Z",
     "iopub.status.idle": "2021-08-18T10:15:46.587063Z",
     "shell.execute_reply": "2021-08-18T10:15:46.586138Z",
     "shell.execute_reply.started": "2021-08-18T10:15:46.576045Z"
    }
   },
   "outputs": [],
   "source": [
    "class BodyDataset(torch.utils.data.Dataset):\n",
    "    def __init__(self, x_dir, y_dir,transform=None):\n",
    "        super().__init__()\n",
    "        self.transform = transform\n",
    "        self.x_img = x_dir\n",
    "        self.y_img = y_dir   \n",
    "\n",
    "    def __len__(self):\n",
    "        return len(self.x_img)\n",
    "\n",
    "    def __getitem__(self, idx):\n",
    "        x_img = self.x_img[idx]\n",
    "        y_img = self.y_img[idx]\n",
    "        # Read an image with OpenCV\n",
    "        x_img = dcm.read_file(x_img)\n",
    "        y_img = Image.open(y_img)\n",
    "        \n",
    "        #s = int(x_img.RescaleSlope)\n",
    "        #b = int(x_img.RescaleIntercept)\n",
    "        #x_img = s * x_img.pixel_array + b\n",
    "\n",
    "        x_img= x_img.pixel_array\n",
    "        x_img=image_windowing(x_img)\n",
    "        x_img=image_minmax(x_img)\n",
    "        #x_img = np.expand_dims(x_img,1)\n",
    "        #x_img=np.array(x_img)\n",
    "        \n",
    "        if x_img.shape[0] == 512 or x_img.shape[1] == 512:\n",
    "            old_x, old_y = x_img.shape[0], x_img.shape[1]\n",
    "            x = (x_img.shape[0] - 512) // 2\n",
    "            y = (x_img.shape[1] - 512) // 2\n",
    "            x_img = x_img[x : old_x-x, y : old_y-y]\n",
    "            x_img = x_img[:512, :512]\n",
    "#             x_img = cv2.resize(x_img, (256,256), cv2.INTER_AREA)\n",
    "            x_img = cv2.cvtColor(x_img, cv2.COLOR_GRAY2BGR)\n",
    "#             x_img = cv2.cvtColor(x_img, cv2.COLOR_BGR2GRAY)\n",
    "#             print(x_img.shape)\n",
    "#             x_img = cv2.resize(x_img, (512,512), cv2.INTER_AREA)\n",
    "            x_img = np.transpose(x_img,(2,0,1))\n",
    "        #x_img[idx]=x_img   \n",
    "#         x_img = torch.tensor(x_img)\n",
    "        x_img=x_img.astype(np.float32)/255\n",
    "#         print(x_img.shape)\n",
    "        y_img= np.array(y_img)\n",
    "        y_img=y_img.astype(np.float32)\n",
    "\n",
    "        \n",
    "#         x_img= x_img.pixel_array\n",
    "#         x_img=image_windowing(x_img)\n",
    "#         x_img=image_minmax(x_img)\n",
    "#         x_img = np.expand_dims(x_img,1)\n",
    "#         x_img = np.transpose(x_img,(1,0,2))\n",
    "#         y_img= np.array(y_img)\n",
    "       \n",
    "       \n",
    "        \n",
    "       \n",
    "        return x_img, y_img "
   ]
  },
  {
   "cell_type": "code",
   "execution_count": null,
   "metadata": {
    "execution": {
     "iopub.execute_input": "2021-08-18T10:15:47.201737Z",
     "iopub.status.busy": "2021-08-18T10:15:47.201413Z",
     "iopub.status.idle": "2021-08-18T10:15:47.205980Z",
     "shell.execute_reply": "2021-08-18T10:15:47.204864Z",
     "shell.execute_reply.started": "2021-08-18T10:15:47.201707Z"
    }
   },
   "outputs": [],
   "source": [
    "# class BodyDataset(torch.utils.data.Dataset):\n",
    "#     def __init__(self, x_dir, y_dir,transform=None):\n",
    "#         super().__init__()\n",
    "#         self.transform = transform\n",
    "#         self.x_img = x_dir\n",
    "#         self.y_img = y_dir   \n",
    "\n",
    "#     def __len__(self):\n",
    "#         return len(self.x_img)\n",
    "\n",
    "#     def __getitem__(self, idx):\n",
    "#         x_img = self.x_img[idx]\n",
    "#         y_img = self.y_img[idx]\n",
    "#         # Read an image with OpenCV\n",
    "#         x_img = dcm.read_file(x_img)\n",
    "#         y_img = Image.open(y_img)\n",
    "        \n",
    "#         s = int(x_img.RescaleSlope)\n",
    "#         b = int(x_img.RescaleIntercept)\n",
    "#         x_img = s * x_img.pixel_array + b\n",
    "\n",
    "# #         x_img= x_img.pixel_array\n",
    "#         x_img=image_windowing(x_img)\n",
    "#         x_img=image_minmax(x_img)\n",
    "#         x_img = np.expand_dims(x_img,1)\n",
    "#         x_img = np.transpose(x_img,(1,0,2))\n",
    "#         x_img=np.array(x_img)\n",
    "#         x_img=x_img.astype(np.float32)/255\n",
    "        \n",
    "#         y_img= np.array(y_img)\n",
    "#         y_img=y_img.astype(np.float32)\n",
    "       \n",
    "       \n",
    "        \n",
    "       \n",
    "#         return x_img, y_img "
   ]
  },
  {
   "cell_type": "code",
   "execution_count": null,
   "metadata": {
    "execution": {
     "iopub.execute_input": "2021-08-18T10:15:47.745100Z",
     "iopub.status.busy": "2021-08-18T10:15:47.744751Z",
     "iopub.status.idle": "2021-08-18T10:15:49.948952Z",
     "shell.execute_reply": "2021-08-18T10:15:49.948109Z",
     "shell.execute_reply.started": "2021-08-18T10:15:47.745070Z"
    }
   },
   "outputs": [],
   "source": [
    "import imageio\n",
    "import glob\n",
    "\n",
    "data_path=sorted(glob.glob( \"../input/body-morphometry-kidney-and-tumor/train/DICOM/**/*.dcm\",recursive=True ))\n",
    "label_path=sorted(glob.glob(\"../input/body-morphometry-kidney-and-tumor/train/Label/**/*.png\",recursive = True))"
   ]
  },
  {
   "cell_type": "code",
   "execution_count": null,
   "metadata": {
    "execution": {
     "iopub.execute_input": "2021-08-18T10:15:49.952348Z",
     "iopub.status.busy": "2021-08-18T10:15:49.952088Z",
     "iopub.status.idle": "2021-08-18T10:15:49.958565Z",
     "shell.execute_reply": "2021-08-18T10:15:49.957722Z",
     "shell.execute_reply.started": "2021-08-18T10:15:49.952322Z"
    }
   },
   "outputs": [],
   "source": [
    "train_dataset = BodyDataset(data_path,label_path)\n",
    "train_loader = torch.utils.data.DataLoader(dataset=train_dataset, batch_size=3,shuffle=True)"
   ]
  },
  {
   "cell_type": "code",
   "execution_count": null,
   "metadata": {
    "execution": {
     "iopub.execute_input": "2021-08-18T10:15:51.657092Z",
     "iopub.status.busy": "2021-08-18T10:15:51.656729Z",
     "iopub.status.idle": "2021-08-18T10:15:51.666425Z",
     "shell.execute_reply": "2021-08-18T10:15:51.665464Z",
     "shell.execute_reply.started": "2021-08-18T10:15:51.657062Z"
    }
   },
   "outputs": [],
   "source": [
    "len(train_loader)"
   ]
  },
  {
   "cell_type": "code",
   "execution_count": null,
   "metadata": {
    "execution": {
     "iopub.execute_input": "2021-08-18T10:15:53.131752Z",
     "iopub.status.busy": "2021-08-18T10:15:53.131417Z",
     "iopub.status.idle": "2021-08-18T10:15:53.529083Z",
     "shell.execute_reply": "2021-08-18T10:15:53.528274Z",
     "shell.execute_reply.started": "2021-08-18T10:15:53.131723Z"
    }
   },
   "outputs": [],
   "source": [
    "##input과 label이 맞나 확인\n",
    "images,labels = next(iter(train_loader))\n",
    "\n",
    "# images= np.transpose(images,(0,3,1,2))\n",
    "print(images.shape)\n",
    "\n",
    "y=labels[0].numpy()\n",
    "x=images[0].numpy()\n",
    "# print(x[0][500])\n",
    "#y=labels[0].numpy()\n",
    "plt.subplot(1,2,1)\n",
    "# plt.imshow(df_data, cmap='gray', vmin=-100, vmax=300)\n",
    "plt.imshow(x[0])\n",
    "plt.subplot(1,2,2)\n",
    "plt.imshow(y)\n",
    "plt.show()"
   ]
  },
  {
   "cell_type": "code",
   "execution_count": null,
   "metadata": {
    "execution": {
     "iopub.execute_input": "2021-08-18T10:15:53.532446Z",
     "iopub.status.busy": "2021-08-18T10:15:53.532072Z",
     "iopub.status.idle": "2021-08-18T10:16:08.253775Z",
     "shell.execute_reply": "2021-08-18T10:16:08.252821Z",
     "shell.execute_reply.started": "2021-08-18T10:15:53.532409Z"
    },
    "jupyter": {
     "outputs_hidden": true
    }
   },
   "outputs": [],
   "source": [
    "!pip install git+https://github.com/qubvel/segmentation_models.pytorch"
   ]
  },
  {
   "cell_type": "code",
   "execution_count": null,
   "metadata": {
    "execution": {
     "iopub.execute_input": "2021-08-18T10:16:08.257726Z",
     "iopub.status.busy": "2021-08-18T10:16:08.257444Z",
     "iopub.status.idle": "2021-08-18T10:16:14.773985Z",
     "shell.execute_reply": "2021-08-18T10:16:14.773044Z",
     "shell.execute_reply.started": "2021-08-18T10:16:08.257695Z"
    }
   },
   "outputs": [],
   "source": [
    "import segmentation_models_pytorch as smp\n",
    "model = smp.Unet(\n",
    "    encoder_name=\"efficientnet-b7\",# choose encoder, e.g. mobilenet_v2 or efficientnet-b7     # use `imagenet` pre-trained weights for encoder initialization\n",
    "    encoder_weights=\"imagenet\",\n",
    "    in_channels=3,                  # model input channels (1 for gray-scale images, 3 for RGB, etc.)\n",
    "    classes=1,                      # model output channels (number of classes in your dataset)\n",
    ")"
   ]
  },
  {
   "cell_type": "code",
   "execution_count": null,
   "metadata": {
    "execution": {
     "iopub.execute_input": "2021-08-18T10:16:19.333917Z",
     "iopub.status.busy": "2021-08-18T10:16:19.333463Z",
     "iopub.status.idle": "2021-08-18T10:16:19.347557Z",
     "shell.execute_reply": "2021-08-18T10:16:19.346492Z",
     "shell.execute_reply.started": "2021-08-18T10:16:19.333849Z"
    }
   },
   "outputs": [],
   "source": [
    "sum([param.nelement() for param in model.parameters()])"
   ]
  },
  {
   "cell_type": "code",
   "execution_count": null,
   "metadata": {
    "execution": {
     "iopub.execute_input": "2021-08-18T10:16:19.557643Z",
     "iopub.status.busy": "2021-08-18T10:16:19.557323Z",
     "iopub.status.idle": "2021-08-18T10:16:19.605746Z",
     "shell.execute_reply": "2021-08-18T10:16:19.604757Z",
     "shell.execute_reply.started": "2021-08-18T10:16:19.557615Z"
    }
   },
   "outputs": [],
   "source": [
    "device = 'cpu'\n",
    "if torch.cuda.is_available():\n",
    "    device = 'cuda'\n",
    "    \n",
    "device"
   ]
  },
  {
   "cell_type": "code",
   "execution_count": null,
   "metadata": {
    "execution": {
     "iopub.execute_input": "2021-08-18T10:16:20.904338Z",
     "iopub.status.busy": "2021-08-18T10:16:20.904008Z",
     "iopub.status.idle": "2021-08-18T10:16:20.908073Z",
     "shell.execute_reply": "2021-08-18T10:16:20.906995Z",
     "shell.execute_reply.started": "2021-08-18T10:16:20.904308Z"
    }
   },
   "outputs": [],
   "source": [
    "# def DiceLoss(inputs, targets, smooth=1):\n",
    "\n",
    "#     #comment out if your model contains a sigmoid or equivalent activation layer\n",
    "    \n",
    "#     inputs =F.sigmoid(inputs)       \n",
    "\n",
    "#     #flatten label and prediction tensors\n",
    "#     inputs = inputs.view(-1)\n",
    "#     targets = targets.view(-1)\n",
    "\n",
    "#     intersection = (inputs * targets).sum()                            \n",
    "#     dice = (2.*intersection + smooth)/(inputs.sum() + targets.sum() + smooth)  \n",
    "\n",
    "#     return 1 - dice"
   ]
  },
  {
   "cell_type": "code",
   "execution_count": null,
   "metadata": {
    "execution": {
     "iopub.execute_input": "2021-08-18T10:16:25.936621Z",
     "iopub.status.busy": "2021-08-18T10:16:25.936296Z",
     "iopub.status.idle": "2021-08-18T10:16:25.954507Z",
     "shell.execute_reply": "2021-08-18T10:16:25.953667Z",
     "shell.execute_reply.started": "2021-08-18T10:16:25.936590Z"
    }
   },
   "outputs": [],
   "source": [
    "criterion=smp.utils.losses.DiceLoss()\n",
    "metrics = [smp.utils.metrics.IoU(),]\n",
    "\n",
    "optimizer = optim.Adam(model.parameters(), lr=0.00001)"
   ]
  },
  {
   "cell_type": "code",
   "execution_count": null,
   "metadata": {
    "execution": {
     "iopub.execute_input": "2021-08-18T10:12:54.760897Z",
     "iopub.status.busy": "2021-08-18T10:12:54.760519Z",
     "iopub.status.idle": "2021-08-18T10:13:00.404064Z",
     "shell.execute_reply": "2021-08-18T10:13:00.402859Z",
     "shell.execute_reply.started": "2021-08-18T10:12:54.760866Z"
    }
   },
   "outputs": [],
   "source": [
    "train_epoch = smp.utils.train.TrainEpoch(\n",
    "    model.to(device), \n",
    "    loss=criterion, \n",
    "    metrics=metrics, \n",
    "    optimizer=optimizer,\n",
    "    device=device,\n",
    "    verbose=True,\n",
    ")\n"
   ]
  },
  {
   "cell_type": "code",
   "execution_count": null,
   "metadata": {},
   "outputs": [],
   "source": [
    "train_logs"
   ]
  },
  {
   "cell_type": "code",
   "execution_count": null,
   "metadata": {
    "execution": {
     "iopub.execute_input": "2021-08-17T14:24:41.22517Z",
     "iopub.status.busy": "2021-08-17T14:24:41.224719Z",
     "iopub.status.idle": "2021-08-17T14:48:59.348514Z",
     "shell.execute_reply": "2021-08-17T14:48:59.346977Z",
     "shell.execute_reply.started": "2021-08-17T14:24:41.22513Z"
    }
   },
   "outputs": [],
   "source": [
    "max_score = 0\n",
    "\n",
    "for i in range(0, 5):\n",
    "    print(f'Epoch: {i + 1}')\n",
    "    train_logs = train_epoch.run(train_loader)\n",
    "    \n",
    "    \n",
    "    # do something (save model, change lr, etc.)\n",
    "    if max_score < train_logs['iou_score']:\n",
    "        max_score = train_logs['iou_score']\n",
    "        torch.save(model.state_dict(), 'model_body4.pt')\n",
    "        print('Model saved!')"
   ]
  },
  {
   "cell_type": "code",
   "execution_count": null,
   "metadata": {
    "execution": {
     "iopub.execute_input": "2021-08-18T10:16:31.603058Z",
     "iopub.status.busy": "2021-08-18T10:16:31.602697Z"
    }
   },
   "outputs": [],
   "source": [
    "n_epochs=300\n",
    "train_loss_min=9999999999999999\n",
    "train_loss = torch.zeros(n_epochs)\n",
    "cnt =0\n",
    "#model=ResNetUNet(3)\n",
    "#model.load_state_dict(torch.load('model_train_8.pt'))\n",
    "model.to(device)\n",
    "for e in np.arange(n_epochs): \n",
    "    print('Starting epoch = ', e)\n",
    "\n",
    "    # Training\n",
    "    model.train()\n",
    "    for data,labels in tqdm(train_loader):\n",
    "     # move tensors to GPU if CUDA is available\n",
    "       \n",
    "#         data, labels = torch.float.tensor(data),torch.tensor(labels)\n",
    "        data, labels = data.to(device), labels.to(device)\n",
    "#         print(data)\n",
    "        \n",
    "    # clear the gradients of all optimized variables\n",
    "        optimizer.zero_grad()\n",
    "    # forward pass: compute predicted outputs by passing inputs to the model\n",
    "#         train_logs = train_epoch.run(train_loader)\n",
    "        \n",
    "        logits = model(data)\n",
    "        z=logits.detach().cpu().numpy()\n",
    "        z = z.astype(np.uint8)\n",
    "        cnt = cnt+1\n",
    "        \n",
    "        if cnt %50==0:\n",
    "#             print(logits[0][0][500])\n",
    "#             print(labels[0][300])\n",
    "#             print(data.shape)\n",
    "#             print(labels.shape)\n",
    "#             print(logits.shape)\n",
    "            # y=torch.squeeze(labels[0])\n",
    "            y=labels[0].detach().cpu().numpy()\n",
    "            x=data[0].detach().cpu().numpy()\n",
    "            a=logits[0].detach().cpu().numpy()\n",
    "            #y=labels[0].numpy()\n",
    "            plt.figure(figsize=(16,18))\n",
    "            plt.subplot(1,4,1)\n",
    "            plt.imshow(x[0])\n",
    "            plt.subplot(1,4,2)\n",
    "            plt.imshow(y)\n",
    "            plt.subplot(1,4,3)\n",
    "            plt.imshow(z[0][0])\n",
    "            plt.subplot(1,4,4)\n",
    "            plt.imshow(a[0])\n",
    "            plt.show()\n",
    "        \n",
    "        #print(logits)\n",
    "    # calculate the batch loss\n",
    "        loss = criterion(logits, labels)\n",
    "    # backward pass: compute gradient of the loss with respect to model parameters\n",
    "        loss.backward()\n",
    "    # perform a single optimization step (parameter update)\n",
    "        optimizer.step()\n",
    "    # update training loss\n",
    "        train_loss[e] += loss.item()\n",
    "\n",
    "    train_loss[e] /= len(train_loader)\n",
    "    \n",
    "    print('Epoch: {} \\tTraining Loss: {:.6f}'.format(e, train_loss[e]))\n",
    "    if train_loss[e] <= train_loss_min:\n",
    "            print('train_loss decreased ({:.6f} --> {:.6f}).  Saving model ...'.format(\n",
    "            train_loss_min,\n",
    "            train_loss[e]))\n",
    "            train_loss_min = train_loss[e]\n",
    "            torch.save(model.state_dict(), 'model_body3.pt')\n",
    "\n",
    "\n"
   ]
  },
  {
   "cell_type": "code",
   "execution_count": null,
   "metadata": {},
   "outputs": [],
   "source": []
  },
  {
   "cell_type": "code",
   "execution_count": null,
   "metadata": {},
   "outputs": [],
   "source": [
    "import segmentation_models_pytorch as smp\n",
    "model = smp.Unet(\n",
    "    encoder_name=\"\",# choose encoder, e.g. mobilenet_v2 or efficientnet-b7     # use `imagenet` pre-trained weights for encoder initialization\n",
    "    in_channels=1,                  # model input channels (1 for gray-scale images, 3 for RGB, etc.)\n",
    "    classes=1,                      # model output channels (number of classes in your dataset)\n",
    ")"
   ]
  },
  {
   "cell_type": "code",
   "execution_count": null,
   "metadata": {},
   "outputs": [],
   "source": [
    "model.load_state_dict(torch.load('model_body3.pt'))"
   ]
  },
  {
   "cell_type": "code",
   "execution_count": null,
   "metadata": {
    "execution": {
     "iopub.execute_input": "2021-08-18T09:31:09.279691Z",
     "iopub.status.busy": "2021-08-18T09:31:09.279312Z",
     "iopub.status.idle": "2021-08-18T09:31:09.290951Z",
     "shell.execute_reply": "2021-08-18T09:31:09.29012Z",
     "shell.execute_reply.started": "2021-08-18T09:31:09.279635Z"
    }
   },
   "outputs": [],
   "source": [
    "class TestMyDataset(torch.utils.data.Dataset):\n",
    "    def __init__(self, x_dir,transform=None):\n",
    "        super().__init__()\n",
    "        self.transform = transform\n",
    "        self.x_img = x_dir\n",
    "     \n",
    "\n",
    "    def __len__(self):\n",
    "        return len(self.x_img)\n",
    "\n",
    "    def __getitem__(self, idx):\n",
    "        x_img = self.x_img[idx]\n",
    "     \n",
    "        # Read an image with OpenCV\n",
    "        x_img = dcm.dcmread(x_img)\n",
    "      \n",
    "        x_img= x_img.pixel_array\n",
    "        x_img=image_windowing(x_img)\n",
    "        x_img=image_minmax(x_img)\n",
    "        #x_img = np.expand_dims(x_img,1)\n",
    "        #x_img=np.array(x_img)\n",
    "        \n",
    "        if x_img.shape[0] == 512 or x_img.shape[1] == 512:\n",
    "            old_x, old_y = x_img.shape[0], x_img.shape[1]\n",
    "            x = (x_img.shape[0] - 512) // 2\n",
    "            y = (x_img.shape[1] - 512) // 2\n",
    "            x_img = x_img[x : old_x-x, y : old_y-y]\n",
    "            x_img = x_img[:512, :512]\n",
    "#             x_img = cv2.resize(x_img, (256,256), cv2.INTER_AREA)\n",
    "            x_img = cv2.cvtColor(x_img, cv2.COLOR_GRAY2BGR)\n",
    "#             x_img = cv2.cvtColor(x_img, cv2.COLOR_BGR2GRAY)\n",
    "#             print(x_img.shape)\n",
    "#             x_img = cv2.resize(x_img, (512,512), cv2.INTER_AREA)\n",
    "            x_img = np.transpose(x_img,(2,0,1))\n",
    "        #x_img[idx]=x_img   \n",
    "#         x_img = torch.tensor(x_img)\n",
    "        x_img=x_img.astype(np.float32)/255\n",
    "\n",
    "       \n",
    "        return x_img"
   ]
  },
  {
   "cell_type": "code",
   "execution_count": null,
   "metadata": {
    "execution": {
     "iopub.execute_input": "2021-08-18T09:31:09.844617Z",
     "iopub.status.busy": "2021-08-18T09:31:09.844282Z",
     "iopub.status.idle": "2021-08-18T09:31:09.95349Z",
     "shell.execute_reply": "2021-08-18T09:31:09.952729Z",
     "shell.execute_reply.started": "2021-08-18T09:31:09.844586Z"
    }
   },
   "outputs": [],
   "source": [
    "\n",
    "test_dataset=sorted(glob.glob( \"../input/body-morphometry-kidney-and-tumor/test/DICOM/**/*.dcm\",recursive=True ))\n",
    "test_dataset=TestMyDataset(test_dataset)\n",
    "test_dataloader = torch.utils.data.DataLoader(dataset=test_dataset, batch_size=1)"
   ]
  },
  {
   "cell_type": "code",
   "execution_count": null,
   "metadata": {},
   "outputs": [],
   "source": []
  },
  {
   "cell_type": "code",
   "execution_count": null,
   "metadata": {
    "execution": {
     "iopub.execute_input": "2021-08-18T09:31:10.841227Z",
     "iopub.status.busy": "2021-08-18T09:31:10.840879Z",
     "iopub.status.idle": "2021-08-18T09:31:10.846837Z",
     "shell.execute_reply": "2021-08-18T09:31:10.845813Z",
     "shell.execute_reply.started": "2021-08-18T09:31:10.841197Z"
    }
   },
   "outputs": [],
   "source": [
    "len(test_dataloader)"
   ]
  },
  {
   "cell_type": "code",
   "execution_count": null,
   "metadata": {
    "execution": {
     "iopub.execute_input": "2021-08-18T09:35:06.552003Z",
     "iopub.status.busy": "2021-08-18T09:35:06.551616Z",
     "iopub.status.idle": "2021-08-18T09:55:33.670498Z",
     "shell.execute_reply": "2021-08-18T09:55:33.669632Z",
     "shell.execute_reply.started": "2021-08-18T09:35:06.551968Z"
    },
    "jupyter": {
     "outputs_hidden": true
    }
   },
   "outputs": [],
   "source": [
    "def rle_encode(mask_image):\n",
    "    pixels = mask_image.flatten()\n",
    "    pixels[0] = 0\n",
    "    pixels[-1] = 0\n",
    "    runs = np.where(pixels[1:] != pixels[:-1])[0] + 2\n",
    "    runs[1::2] = runs[1::2] - runs[:-1:2]\n",
    "    return runs\n",
    "\n",
    "def rle_to_string(runs):\n",
    "    return ' '.join(str(x) for x in runs)\n",
    "\n",
    "\n",
    "preds_string=[]\n",
    "preds = []\n",
    "model.to(device)\n",
    "cnt=0\n",
    "t=0\n",
    "for data in tqdm(test_dataloader):\n",
    "    cnt+=1\n",
    "\n",
    "    data= data.to(device)\n",
    "#     data=data.unsqueeze(1)\n",
    "    # forward pass: compute predicted outputs by passing inputs to the model\n",
    "#     preds.append(model(data).detach().cpu())\n",
    "    logits = model(data).detach().cpu()\n",
    "    \n",
    "    z=logits.detach().cpu().numpy()\n",
    "    z = z.astype(np.uint8)\n",
    "    preds.append(z)\n",
    "    \n",
    "    if cnt%64==0:\n",
    "#         y=preds[cnt-1][0][0]\n",
    "#         y=y.numpy()\n",
    "        y=logits[0][0].detach().cpu().numpy()\n",
    "        x=data.detach().cpu().numpy()\n",
    "        x = x[0][0]\n",
    "        #y=labels[0].numpy()\n",
    "        plt.figure(figsize=(16,18))\n",
    "        plt.subplot(1,3,1)\n",
    "        plt.imshow(x)\n",
    "        plt.subplot(1,3,2)\n",
    "        plt.imshow(z[0][0])\n",
    "        plt.subplot(1,3,3)\n",
    "        plt.imshow(y)\n",
    "        plt.show()\n",
    "    \n",
    "\n",
    "for i in tqdm(range(0, len(preds),64)):\n",
    "    sample = preds[i:i+64]\n",
    "    for label_code in [1,2]:\n",
    "        tmp=[]\n",
    "        for s in sample:\n",
    "            s = np.equal(s, label_code).flatten()*1\n",
    "            tmp+=s.tolist()\n",
    "        enc = rle_to_string(rle_encode(np.array(tmp)))\n",
    "\n",
    "        preds_string.append(enc)\n",
    "\n"
   ]
  },
  {
   "cell_type": "code",
   "execution_count": null,
   "metadata": {
    "execution": {
     "iopub.execute_input": "2021-08-18T09:58:57.135159Z",
     "iopub.status.busy": "2021-08-18T09:58:57.134785Z",
     "iopub.status.idle": "2021-08-18T09:58:57.425914Z",
     "shell.execute_reply": "2021-08-18T09:58:57.419505Z",
     "shell.execute_reply.started": "2021-08-18T09:58:57.135127Z"
    },
    "jupyter": {
     "outputs_hidden": true
    }
   },
   "outputs": [],
   "source": [
    "preds"
   ]
  },
  {
   "cell_type": "code",
   "execution_count": null,
   "metadata": {},
   "outputs": [],
   "source": [
    "preds_string=[]\n",
    "for i in tqdm(range(0, len(preds),64)):\n",
    "    sample = preds[i:i+64]\n",
    "    for label_code in [1,2]:\n",
    "        tmp=[]\n",
    "        for s in sample:\n",
    "            s = np.equal(s, label_code)*1\n",
    "            print(s)\n",
    "            tmp+=s.tolist()\n",
    "        enc = rle_to_string(rle_encode(np.array(tmp)))\n",
    "\n",
    "        preds_string.append(enc)"
   ]
  },
  {
   "cell_type": "code",
   "execution_count": null,
   "metadata": {},
   "outputs": [],
   "source": [
    "len(tmp)"
   ]
  },
  {
   "cell_type": "code",
   "execution_count": null,
   "metadata": {
    "execution": {
     "iopub.execute_input": "2021-08-18T09:59:08.167202Z",
     "iopub.status.busy": "2021-08-18T09:59:08.166862Z",
     "iopub.status.idle": "2021-08-18T09:59:10.236605Z",
     "shell.execute_reply": "2021-08-18T09:59:10.234938Z",
     "shell.execute_reply.started": "2021-08-18T09:59:08.167172Z"
    },
    "jupyter": {
     "outputs_hidden": true
    }
   },
   "outputs": [],
   "source": [
    "preds_string"
   ]
  },
  {
   "cell_type": "code",
   "execution_count": null,
   "metadata": {},
   "outputs": [],
   "source": [
    "preds[0].shape"
   ]
  },
  {
   "cell_type": "code",
   "execution_count": null,
   "metadata": {
    "execution": {
     "iopub.execute_input": "2021-08-18T10:00:29.973219Z",
     "iopub.status.busy": "2021-08-18T10:00:29.972908Z",
     "iopub.status.idle": "2021-08-18T10:00:29.978791Z",
     "shell.execute_reply": "2021-08-18T10:00:29.977823Z",
     "shell.execute_reply.started": "2021-08-18T10:00:29.97319Z"
    }
   },
   "outputs": [],
   "source": [
    "len(preds_string)"
   ]
  },
  {
   "cell_type": "code",
   "execution_count": null,
   "metadata": {},
   "outputs": [],
   "source": [
    "##input과 label이 맞나 확인\n",
    "y=sample[0][0][0]\n",
    "#y=torch.squeeze(labels[0])\n",
    "y=y.numpy()\n",
    "#x=images[0].numpy()\n",
    "#y=labels[0].numpy()\n",
    "plt.subplot(1,2,1)\n",
    "#plt.imshow(x,cmap='gray')\n",
    "#plt.subplot(1,2,2)\n",
    "plt.imshow(y,cmap='gray')\n",
    "plt.show()"
   ]
  },
  {
   "cell_type": "code",
   "execution_count": null,
   "metadata": {
    "execution": {
     "iopub.execute_input": "2021-08-18T10:00:08.780745Z",
     "iopub.status.busy": "2021-08-18T10:00:08.780412Z",
     "iopub.status.idle": "2021-08-18T10:00:11.833102Z",
     "shell.execute_reply": "2021-08-18T10:00:11.832255Z",
     "shell.execute_reply.started": "2021-08-18T10:00:08.780713Z"
    }
   },
   "outputs": [],
   "source": [
    "\n",
    "sample_submission = pd.read_csv('../input/body-morphometry-kidney-and-tumor/sample_submission.csv')\n",
    "sample_submission['EncodedPixels'] = preds_string\n",
    "sample_submission.to_csv('submission.csv', index=False)"
   ]
  },
  {
   "cell_type": "code",
   "execution_count": null,
   "metadata": {},
   "outputs": [],
   "source": []
  },
  {
   "cell_type": "code",
   "execution_count": null,
   "metadata": {},
   "outputs": [],
   "source": []
  }
 ],
 "metadata": {
  "kernelspec": {
   "display_name": "Python 3",
   "language": "python",
   "name": "python3"
  },
  "language_info": {
   "codemirror_mode": {
    "name": "ipython",
    "version": 3
   },
   "file_extension": ".py",
   "mimetype": "text/x-python",
   "name": "python",
   "nbconvert_exporter": "python",
   "pygments_lexer": "ipython3",
   "version": "3.8.8"
  }
 },
 "nbformat": 4,
 "nbformat_minor": 4
}
